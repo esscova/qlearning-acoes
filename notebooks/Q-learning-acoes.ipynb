{
 "cells": [
  {
   "cell_type": "markdown",
   "id": "5daefc99",
   "metadata": {},
   "source": [
    "# Robo de negociações\n",
    "\n",
    "**Aprendizado do curso gratuito de linguagem Python pela [Data Science Academy](https://www.datascienceacademy.com.br/cursosgratuitos)**\n",
    "\n",
    "Essa é uma implementação simples de um algoritmo de aprendizado por reforço (Q-learning) aplicado ao problema de negociação de ações."
   ]
  },
  {
   "cell_type": "markdown",
   "id": "6bcac679",
   "metadata": {},
   "source": [
    "> Q-learning é uma abordagem de aprendizado por reforço que permite a um agente aprender a melhor estratégia em um ambiente interativo, como um jogo, através de tentativa e erro, mantendo uma tabela de valores associados a diferentes ações em diferentes situações."
   ]
  },
  {
   "cell_type": "code",
   "execution_count": 1,
   "id": "ee509f57",
   "metadata": {},
   "outputs": [
    {
     "name": "stdout",
     "output_type": "stream",
     "text": [
      "Versão da linguagem Python utilizada:  3.11.5\n"
     ]
    }
   ],
   "source": [
    "from platform import python_version\n",
    "print('Versão da linguagem Python utilizada: ', python_version())"
   ]
  },
  {
   "cell_type": "markdown",
   "id": "c7ca9f25",
   "metadata": {},
   "source": [
    "**Importando bibliotecas**"
   ]
  },
  {
   "cell_type": "code",
   "execution_count": null,
   "id": "988e0a48",
   "metadata": {},
   "outputs": [],
   "source": [
    "#!pip install -q plotly yfinance"
   ]
  },
  {
   "cell_type": "code",
   "execution_count": 2,
   "id": "e40f5287",
   "metadata": {},
   "outputs": [],
   "source": [
    "import yfinance as yf\n",
    "import random\n",
    "import plotly.graph_objects as go\n",
    "import pandas as pd\n",
    "import numpy as np\n",
    "from datetime import datetime"
   ]
  },
  {
   "cell_type": "markdown",
   "id": "b4cc0ebc",
   "metadata": {},
   "source": [
    "## Obtenção de dados"
   ]
  },
  {
   "cell_type": "code",
   "execution_count": 3,
   "id": "59de76b2",
   "metadata": {},
   "outputs": [
    {
     "name": "stdout",
     "output_type": "stream",
     "text": [
      "[*********************100%%**********************]  1 of 1 completed\n"
     ]
    }
   ],
   "source": [
    "ticker = 'PETR4.SA'\n",
    "petro = yf.download(ticker, start='2018-01-01', end='2023-12-31')"
   ]
  },
  {
   "cell_type": "markdown",
   "id": "8b1be218",
   "metadata": {},
   "source": [
    "## Visualização dos dados"
   ]
  },
  {
   "cell_type": "code",
   "execution_count": 4,
   "id": "2ce2cc88",
   "metadata": {},
   "outputs": [
    {
     "data": {
      "text/html": [
       "<div>\n",
       "<style scoped>\n",
       "    .dataframe tbody tr th:only-of-type {\n",
       "        vertical-align: middle;\n",
       "    }\n",
       "\n",
       "    .dataframe tbody tr th {\n",
       "        vertical-align: top;\n",
       "    }\n",
       "\n",
       "    .dataframe thead th {\n",
       "        text-align: right;\n",
       "    }\n",
       "</style>\n",
       "<table border=\"1\" class=\"dataframe\">\n",
       "  <thead>\n",
       "    <tr style=\"text-align: right;\">\n",
       "      <th></th>\n",
       "      <th>Open</th>\n",
       "      <th>High</th>\n",
       "      <th>Low</th>\n",
       "      <th>Close</th>\n",
       "      <th>Adj Close</th>\n",
       "      <th>Volume</th>\n",
       "    </tr>\n",
       "    <tr>\n",
       "      <th>Date</th>\n",
       "      <th></th>\n",
       "      <th></th>\n",
       "      <th></th>\n",
       "      <th></th>\n",
       "      <th></th>\n",
       "      <th></th>\n",
       "    </tr>\n",
       "  </thead>\n",
       "  <tbody>\n",
       "    <tr>\n",
       "      <th>2018-01-02</th>\n",
       "      <td>16.190001</td>\n",
       "      <td>16.549999</td>\n",
       "      <td>16.190001</td>\n",
       "      <td>16.549999</td>\n",
       "      <td>5.651068</td>\n",
       "      <td>33461800</td>\n",
       "    </tr>\n",
       "    <tr>\n",
       "      <th>2018-01-03</th>\n",
       "      <td>16.490000</td>\n",
       "      <td>16.719999</td>\n",
       "      <td>16.370001</td>\n",
       "      <td>16.700001</td>\n",
       "      <td>5.702286</td>\n",
       "      <td>55940900</td>\n",
       "    </tr>\n",
       "    <tr>\n",
       "      <th>2018-01-04</th>\n",
       "      <td>16.780001</td>\n",
       "      <td>16.959999</td>\n",
       "      <td>16.620001</td>\n",
       "      <td>16.730000</td>\n",
       "      <td>5.712530</td>\n",
       "      <td>37064900</td>\n",
       "    </tr>\n",
       "  </tbody>\n",
       "</table>\n",
       "</div>"
      ],
      "text/plain": [
       "                 Open       High        Low      Close  Adj Close    Volume\n",
       "Date                                                                       \n",
       "2018-01-02  16.190001  16.549999  16.190001  16.549999   5.651068  33461800\n",
       "2018-01-03  16.490000  16.719999  16.370001  16.700001   5.702286  55940900\n",
       "2018-01-04  16.780001  16.959999  16.620001  16.730000   5.712530  37064900"
      ]
     },
     "execution_count": 4,
     "metadata": {},
     "output_type": "execute_result"
    }
   ],
   "source": [
    "dados = pd.DataFrame(petro)\n",
    "dados.head(3)"
   ]
  },
  {
   "cell_type": "code",
   "execution_count": 1,
   "id": "047aacd8",
   "metadata": {},
   "outputs": [
    {
     "ename": "NameError",
     "evalue": "name 'go' is not defined",
     "output_type": "error",
     "traceback": [
      "\u001b[1;31m---------------------------------------------------------------------------\u001b[0m",
      "\u001b[1;31mNameError\u001b[0m                                 Traceback (most recent call last)",
      "Cell \u001b[1;32mIn[1], line 1\u001b[0m\n\u001b[1;32m----> 1\u001b[0m fig \u001b[38;5;241m=\u001b[39m go\u001b[38;5;241m.\u001b[39mFigure(\n\u001b[0;32m      2\u001b[0m     data\u001b[38;5;241m=\u001b[39m[go\u001b[38;5;241m.\u001b[39mCandlestick(x\u001b[38;5;241m=\u001b[39mdados\u001b[38;5;241m.\u001b[39mindex,\n\u001b[0;32m      3\u001b[0m                          \u001b[38;5;28mopen\u001b[39m\u001b[38;5;241m=\u001b[39mdados[\u001b[38;5;124m'\u001b[39m\u001b[38;5;124mOpen\u001b[39m\u001b[38;5;124m'\u001b[39m],\n\u001b[0;32m      4\u001b[0m                          high\u001b[38;5;241m=\u001b[39mdados[\u001b[38;5;124m'\u001b[39m\u001b[38;5;124mHigh\u001b[39m\u001b[38;5;124m'\u001b[39m],\n\u001b[0;32m      5\u001b[0m                          low\u001b[38;5;241m=\u001b[39mdados[\u001b[38;5;124m'\u001b[39m\u001b[38;5;124mLow\u001b[39m\u001b[38;5;124m'\u001b[39m],\n\u001b[0;32m      6\u001b[0m                          close\u001b[38;5;241m=\u001b[39mdados[\u001b[38;5;124m'\u001b[39m\u001b[38;5;124mClose\u001b[39m\u001b[38;5;124m'\u001b[39m]\n\u001b[0;32m      7\u001b[0m                          )])\n\u001b[0;32m      8\u001b[0m fig\u001b[38;5;241m.\u001b[39mshow()\n",
      "\u001b[1;31mNameError\u001b[0m: name 'go' is not defined"
     ]
    }
   ],
   "source": [
    "fig = go.Figure(\n",
    "    data=[go.Candlestick(x=dados.index,\n",
    "                         open=dados['Open'],\n",
    "                         high=dados['High'],\n",
    "                         low=dados['Low'],\n",
    "                         close=dados['Close']\n",
    "                         )])\n",
    "fig.show()"
   ]
  },
  {
   "cell_type": "markdown",
   "id": "31980ac1",
   "metadata": {},
   "source": [
    "## Configurações"
   ]
  },
  {
   "cell_type": "markdown",
   "id": "b82a500b",
   "metadata": {},
   "source": [
    "**Hiperparâmetros**"
   ]
  },
  {
   "cell_type": "code",
   "execution_count": 6,
   "id": "edec28aa",
   "metadata": {},
   "outputs": [],
   "source": [
    "episodios = 1000\n",
    "alfa = 0.1  # Taxa de aprendizado\n",
    "gama = 0.99  # Taxa de recompensa\n",
    "epsilon = 0.1  # Exploração vs Exploração"
   ]
  },
  {
   "cell_type": "markdown",
   "id": "bcac6570",
   "metadata": {},
   "source": [
    "**Ambiente de negociação**"
   ]
  },
  {
   "cell_type": "code",
   "execution_count": 7,
   "id": "12ca53f2",
   "metadata": {},
   "outputs": [],
   "source": [
    "precos = dados.Close.values \n",
    "acoes = ['comprar', 'vender','manter'] # Ações de negociação\n",
    "saldo_inicial = 1000\n",
    "num_acoes_inicial = 0"
   ]
  },
  {
   "cell_type": "markdown",
   "id": "cd772392",
   "metadata": {},
   "source": [
    "**Função de execução de Ações**"
   ]
  },
  {
   "cell_type": "code",
   "execution_count": 8,
   "id": "a192eddd",
   "metadata": {},
   "outputs": [],
   "source": [
    "# executar os passos do robo trading\n",
    "def executar_acao (estado, acao, saldo, num_acoes, preco):\n",
    "\n",
    "    # comprar\n",
    "    if acao == 0:\n",
    "        if saldo >= preco:\n",
    "            num_acoes += 1\n",
    "            saldo -= preco\n",
    "\n",
    "    # vender\n",
    "    elif acao == 1:\n",
    "        if num_acoes > 0:\n",
    "            num_acoes -= 1\n",
    "            saldo += preco\n",
    "\n",
    "    # lucro\n",
    "    lucro = saldo + num_acoes*preco - saldo_inicial\n",
    "\n",
    "    return (saldo, num_acoes, lucro) "
   ]
  },
  {
   "cell_type": "markdown",
   "id": "1a3e7c76",
   "metadata": {},
   "source": [
    "## Algoritmo Q-learning"
   ]
  },
  {
   "cell_type": "markdown",
   "id": "423300f2",
   "metadata": {},
   "source": [
    "**Inicialização da tabela Q**"
   ]
  },
  {
   "cell_type": "markdown",
   "id": "53f08abf",
   "metadata": {},
   "source": [
    "* Matriz iniciada em '0' que sera atualizada durante o treinamento\n",
    "* len(precos) representa o numero de estados\n",
    "* len(acoes) as ações da função 'executar_acao()'"
   ]
  },
  {
   "cell_type": "code",
   "execution_count": 9,
   "id": "246f5239",
   "metadata": {},
   "outputs": [],
   "source": [
    "q_tabela = np.zeros((len(precos), len(acoes)))"
   ]
  },
  {
   "cell_type": "markdown",
   "id": "a9eeb611",
   "metadata": {},
   "source": [
    "**Treinamento do algoritmo**\n",
    "\n",
    "* O treinamento é realizado por meio de vários episódios, onde um episódio representa uma iteração completa sobre o conjunto de dados históricos.\n",
    "* No início de cada episódio, o saldo e o número de ações são reinicializados.\n",
    "* Dentro de cada episódio, o algoritmo percorre os dados históricos de preço.\n",
    "* O agente escolhe a próxima ação com base em uma política epsilon-greedy.\n",
    "* A ação escolhida é executada, e a tabela Q é atualizada com base na recompensa obtida."
   ]
  },
  {
   "cell_type": "code",
   "execution_count": 10,
   "id": "b62b61cb",
   "metadata": {},
   "outputs": [
    {
     "name": "stdout",
     "output_type": "stream",
     "text": [
      "Treinamento concluído\n"
     ]
    }
   ],
   "source": [
    "for _ in range(episodios):\n",
    "\n",
    "  saldo = saldo_inicial\n",
    "  num_acoes = num_acoes_inicial\n",
    "\n",
    "  for i, preco in enumerate(precos[:-1]):\n",
    "    estado = i\n",
    "\n",
    "    if np.random.random() < epsilon:\n",
    "      acao = random.choice(range(len(acoes)))\n",
    "    else:\n",
    "      acao = np.argmax(q_tabela[estado])\n",
    "\n",
    "    saldo, num_acoes, lucro = executar_acao(estado, acao, saldo, num_acoes,preco)\n",
    "    prox_estado = i + 1\n",
    "\n",
    "    q_tabela[estado][acao] += alfa * (lucro + gama * np.max(q_tabela[prox_estado]) - q_tabela[estado][acao])\n",
    "print('Treinamento concluído')"
   ]
  },
  {
   "cell_type": "markdown",
   "id": "eb7cbae6",
   "metadata": {},
   "source": [
    "## Execução do algoritmo treinado\n",
    "\n",
    "* Antes de executar o algoritmo treinado, o saldo e o número de ações são reinicializados.\n",
    "* O código percorre novamente os dados históricos de preços executando o modelo treinado.\n",
    "* O agente escolhe a ação com o maior valor na tabela Q para o estado atual.\n",
    "* Ao final, o saldo final e o lucro obtido são calculados."
   ]
  },
  {
   "cell_type": "code",
   "execution_count": 11,
   "id": "3f79f8a5",
   "metadata": {},
   "outputs": [
    {
     "name": "stdout",
     "output_type": "stream",
     "text": [
      "Execução concluída\n"
     ]
    }
   ],
   "source": [
    "saldo = saldo_inicial\n",
    "num_acoes = num_acoes_inicial\n",
    "\n",
    "for i, preco in enumerate(precos[:-1]):\n",
    "  estado = iacao = np.argmax(q_tabela[estado])\n",
    "  saldo, num_acoes, _ = executar_acao(estado, acao, saldo, num_acoes, preco)\n",
    "\n",
    "print('Execução concluída')"
   ]
  },
  {
   "cell_type": "markdown",
   "id": "100f4b5c",
   "metadata": {},
   "source": [
    "## Resultados"
   ]
  },
  {
   "cell_type": "code",
   "execution_count": 12,
   "id": "e7ec1576",
   "metadata": {},
   "outputs": [
    {
     "name": "stdout",
     "output_type": "stream",
     "text": [
      "\n",
      "O modelo treinado está acumulando um total de: 51 ações com ticker PETR4.SA\n",
      "\n",
      "Último preço de fechamento: R$37.24\n"
     ]
    }
   ],
   "source": [
    "print(f'\\nO modelo treinado está acumulando um total de: {num_acoes} ações com ticker {ticker}')\n",
    "print(f'\\nÚltimo preço de fechamento: R${round(precos[-1], 2)}')"
   ]
  },
  {
   "cell_type": "markdown",
   "id": "f900ccfe",
   "metadata": {},
   "source": [
    "**Vendendo todas as ações no último preço de fechamento**"
   ]
  },
  {
   "cell_type": "code",
   "execution_count": 13,
   "id": "35e46f15",
   "metadata": {},
   "outputs": [],
   "source": [
    "saldo += num_acoes * precos[-1]\n",
    "lucro = saldo - saldo_inicial\n",
    "lucro_final = round(lucro, 2)"
   ]
  },
  {
   "cell_type": "markdown",
   "id": "e30a0598",
   "metadata": {},
   "source": [
    "**Relatório**"
   ]
  },
  {
   "cell_type": "code",
   "execution_count": 14,
   "id": "2929c44b",
   "metadata": {},
   "outputs": [
    {
     "name": "stdout",
     "output_type": "stream",
     "text": [
      "\n",
      "Relatório de Negociação:\n",
      "\n",
      "Saldo inicial: 1000\n",
      "Saldo final: 1900.44\n",
      "Lucro: 900.44\n"
     ]
    }
   ],
   "source": [
    "print(f'\\nRelatório de Negociação:')\n",
    "print(f'\\nSaldo inicial: {saldo_inicial}')\n",
    "print(f'Saldo final: {round(saldo,2)}')\n",
    "print(f'Lucro: {lucro_final}')"
   ]
  },
  {
   "cell_type": "markdown",
   "id": "47fe32a8",
   "metadata": {},
   "source": [
    "**Exportação de dados para csv**"
   ]
  },
  {
   "cell_type": "code",
   "execution_count": 15,
   "id": "159639a0",
   "metadata": {},
   "outputs": [],
   "source": [
    "dados.to_csv('data/PETR4.csv', index=False)"
   ]
  }
 ],
 "metadata": {
  "kernelspec": {
   "display_name": "Python 3 (ipykernel)",
   "language": "python",
   "name": "python3"
  },
  "language_info": {
   "codemirror_mode": {
    "name": "ipython",
    "version": 3
   },
   "file_extension": ".py",
   "mimetype": "text/x-python",
   "name": "python",
   "nbconvert_exporter": "python",
   "pygments_lexer": "ipython3",
   "version": "3.11.5"
  }
 },
 "nbformat": 4,
 "nbformat_minor": 5
}
